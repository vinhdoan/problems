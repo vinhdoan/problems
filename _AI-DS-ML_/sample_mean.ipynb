{
 "cells": [
  {
   "cell_type": "code",
   "execution_count": 1,
   "metadata": {},
   "outputs": [],
   "source": [
    "import numpy as np\n",
    "import matplotlib.pyplot as plt"
   ]
  },
  {
   "cell_type": "code",
   "execution_count": 2,
   "metadata": {},
   "outputs": [],
   "source": [
    "# X là 1 tập 100000 phần tử có phân bố chuẩn (có thể thử các phân bố khác, phân bố j ko quan trọng)\n",
    "# X = np.random.normal(10, 4, 100000)\n",
    "X = np.random.beta(2, 0.7, 100000)"
   ]
  },
  {
   "cell_type": "code",
   "execution_count": 3,
   "metadata": {},
   "outputs": [
    {
     "data": {
      "image/png": "[encoded data removed]",
      "text/plain": [
       "<matplotlib.figure.Figure at 0x7fab0a6c5630>"
      ]
     },
     "metadata": {},
     "output_type": "display_data"
    }
   ],
   "source": [
    "_ = plt.hist(X)"
   ]
  },
  {
   "cell_type": "code",
   "execution_count": 4,
   "metadata": {},
   "outputs": [
    {
     "name": "stdout",
     "output_type": "stream",
     "text": [
      "MeanX: 0.7416623487360395\n",
      "VarX: 0.05162165613286183\n",
      "StdX: 0.227203996736109\n"
     ]
    }
   ],
   "source": [
    "# Kiểm chứng các số liệu thống kê của X xem đúng ko\n",
    "print('MeanX:', np.mean(X))\n",
    "print('VarX:', np.var(X))\n",
    "print('StdX:', np.std(X))"
   ]
  },
  {
   "cell_type": "code",
   "execution_count": 5,
   "metadata": {},
   "outputs": [],
   "source": [
    "# Chọn M = 10k\n",
    "M = 10000\n",
    "# Tập Y sẽ có 10k phần tử\n",
    "Y = np.empty(M)\n",
    "# Mỗi phần tử của Y là tổng của N = 1000 phần tử được chọn ngẫu nhiên từ X\n",
    "N = 1000\n",
    "for i in range(M):\n",
    "    Y[i] = sum(np.random.choice(X, N))"
   ]
  },
  {
   "cell_type": "code",
   "execution_count": 6,
   "metadata": {},
   "outputs": [
    {
     "data": {
      "image/png": "[encoded data removed]",
      "text/plain": [
       "<matplotlib.figure.Figure at 0x7fab08584e48>"
      ]
     },
     "metadata": {},
     "output_type": "display_data"
    }
   ],
   "source": [
    "# Xem phân bố của Y\n",
    "_ = plt.hist(Y)"
   ]
  },
  {
   "cell_type": "code",
   "execution_count": 7,
   "metadata": {},
   "outputs": [
    {
     "name": "stdout",
     "output_type": "stream",
     "text": [
      "MeanY: 741.5956714823392\n",
      "VarY: 52.19350058046499\n",
      "StdY: 7.224506943761975\n"
     ]
    }
   ],
   "source": [
    "# Kiểm tra các số liệu thống kê của Y để so sánh với X\n",
    "print('MeanY:', np.mean(Y))\n",
    "print('VarY:', np.var(Y))\n",
    "print('StdY:', np.std(Y))"
   ]
  },
  {
   "cell_type": "markdown",
   "metadata": {},
   "source": [
    "Kết luận là:\n",
    "\n",
    "MeanY = N * MeanX\n",
    "\n",
    "VarY = N * VarX\n",
    "\n",
    "=> StdY = sqrt(N) * StdX"
   ]
  }
 ],
 "metadata": {
  "kernelspec": {
   "display_name": "Data Science",
   "language": "python",
   "name": "datascience"
  },
  "language_info": {
   "codemirror_mode": {
    "name": "ipython",
    "version": 3
   },
   "file_extension": ".py",
   "mimetype": "text/x-python",
   "name": "python",
   "nbconvert_exporter": "python",
   "pygments_lexer": "ipython3",
   "version": "3.5.3"
  }
 },
 "nbformat": 4,
 "nbformat_minor": 2
}
